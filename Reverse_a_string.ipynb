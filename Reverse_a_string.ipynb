{
  "nbformat": 4,
  "nbformat_minor": 0,
  "metadata": {
    "colab": {
      "name": "Reverse-a-string.ipynb",
      "provenance": []
    },
    "kernelspec": {
      "name": "python3",
      "display_name": "Python 3"
    },
    "language_info": {
      "name": "python"
    }
  },
  "cells": [
    {
      "cell_type": "code",
      "execution_count": 1,
      "metadata": {
        "colab": {
          "base_uri": "https://localhost:8080/"
        },
        "id": "n1Imbp3NiYMz",
        "outputId": "0a9bc595-aaf0-4ab2-cac3-0fc5e13fb741"
      },
      "outputs": [
        {
          "output_type": "stream",
          "name": "stdout",
          "text": [
            "Enter a string: My name is Ananya\n",
            "The original string  is : My name is Ananya\n",
            "The reversed string(using extended slice syntax) is : aynanA si eman yM\n"
          ]
        }
      ],
      "source": [
        "# Python code to reverse a string \n",
        "# using extended slice syntax\n",
        "  \n",
        "# Function to reverse a string\n",
        "def reverse(string):\n",
        "    string = string[::-1]\n",
        "    return string\n",
        "  \n",
        "s = input(\"Enter a string: \")\n",
        "  \n",
        "print (\"The original string  is : \",end=\"\")\n",
        "print (s)\n",
        "  \n",
        "print (\"The reversed string(using extended slice syntax) is : \",end=\"\")\n",
        "print (reverse(s))"
      ]
    }
  ]
}